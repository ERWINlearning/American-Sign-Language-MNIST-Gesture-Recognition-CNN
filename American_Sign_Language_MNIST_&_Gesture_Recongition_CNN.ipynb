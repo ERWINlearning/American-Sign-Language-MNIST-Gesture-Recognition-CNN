{
  "nbformat": 4,
  "nbformat_minor": 0,
  "metadata": {
    "colab": {
      "provenance": [],
      "authorship_tag": "ABX9TyNQLqt+FZP5tGjVzA2/6MDL",
      "include_colab_link": true
    },
    "kernelspec": {
      "name": "python3",
      "display_name": "Python 3"
    },
    "language_info": {
      "name": "python"
    }
  },
  "cells": [
    {
      "cell_type": "markdown",
      "metadata": {
        "id": "view-in-github",
        "colab_type": "text"
      },
      "source": [
        "<a href=\"https://colab.research.google.com/github/salarMokhtariL/American-Sign-Language-MNIST-Gesture-Recognition-CNN/blob/main/American_Sign_Language_MNIST_%26_Gesture_Recongition_CNN.ipynb\" target=\"_parent\"><img src=\"https://colab.research.google.com/assets/colab-badge.svg\" alt=\"Open In Colab\"/></a>"
      ]
    },
    {
      "cell_type": "markdown",
      "source": [
        "# American Sign Language MNIST & Gesture Recongition CNN\n",
        "\n",
        "> By Salar Moktari Laleh"
      ],
      "metadata": {
        "id": "SX0AGjVRXC_a"
      }
    },
    {
      "cell_type": "markdown",
      "source": [
        "# Importing Required Libraries\n",
        "importing necessary libraries for data cleaning, preprocessing, and model building.\n",
        "\n"
      ],
      "metadata": {
        "id": "MUM8KHtnXpGi"
      }
    },
    {
      "cell_type": "code",
      "execution_count": 1,
      "metadata": {
        "id": "zL6v8CnAXAXl"
      },
      "outputs": [],
      "source": [
        "import numpy as np\n",
        "import pandas as pd\n",
        "import seaborn as sns\n",
        "import matplotlib.pyplot as plt"
      ]
    },
    {
      "cell_type": "markdown",
      "source": [
        "# Loading the Dataset\n",
        "\n",
        "load the train and test datasets using Pandas.\n",
        "\n"
      ],
      "metadata": {
        "id": "q-CiQv2sYcrN"
      }
    },
    {
      "cell_type": "code",
      "source": [
        "# Train datasets\n",
        "\n",
        "train_data = pd.read_csv(\"\")"
      ],
      "metadata": {
        "id": "TaaekeuwYHdd"
      },
      "execution_count": null,
      "outputs": []
    },
    {
      "cell_type": "code",
      "source": [],
      "metadata": {
        "id": "F747Ym9GYjJD"
      },
      "execution_count": null,
      "outputs": []
    }
  ]
}